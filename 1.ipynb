{
 "cells": [
  {
   "cell_type": "code",
   "execution_count": 1,
   "metadata": {},
   "outputs": [],
   "source": [
    "# series: 1 dimensional\n",
    "# dataframe: 2 dimensional"
   ]
  },
  {
   "cell_type": "code",
   "execution_count": 3,
   "metadata": {},
   "outputs": [],
   "source": [
    "import pandas as pd"
   ]
  },
  {
   "cell_type": "code",
   "execution_count": 15,
   "metadata": {},
   "outputs": [],
   "source": [
    "marks=[30,40,50,60,70]\n",
    "sd=['a','b','c','d','e']"
   ]
  },
  {
   "cell_type": "code",
   "execution_count": 19,
   "metadata": {},
   "outputs": [
    {
     "name": "stdout",
     "output_type": "stream",
     "text": [
      "a    30\n",
      "b    40\n",
      "c    50\n",
      "d    60\n",
      "e    70\n",
      "Name: Student marks, dtype: int64\n",
      "<class 'pandas.core.series.Series'>\n",
      "(5,)\n"
     ]
    }
   ],
   "source": [
    "ds=pd.Series(marks,index=sd,name=\"Student marks\")\n",
    "print(ds)#a single column of data\n",
    "print(type(ds))\n",
    "print(ds.shape)"
   ]
  },
  {
   "cell_type": "code",
   "execution_count": 25,
   "metadata": {},
   "outputs": [
    {
     "name": "stdout",
     "output_type": "stream",
     "text": [
      "    0  1    2\n",
      "a   1  2  3.0\n",
      "b   2  3  4.0\n",
      "c   4  5  6.0\n",
      "d   2  3  NaN\n",
      "e  12  6  7.0\n",
      "    0  1     2\n",
      "a   1  2     3\n",
      "b   2  3     4\n",
      "c   4  5     a\n",
      "d   2  3  None\n",
      "e  12  6     7\n",
      "<class 'pandas.core.frame.DataFrame'>\n",
      "(5, 3)\n"
     ]
    }
   ],
   "source": [
    "m=[[1,2,3],[2,3,4],[4,5,6],[2,3],[12,6,7]]\n",
    "df=pd.DataFrame(m,index=sd)\n",
    "print(df)#row and column form of data\n",
    "m1=[[1,2,3],[2,3,4],[4,5,\"a\"],[2,3],[12,6,7]]\n",
    "df1=pd.DataFrame(m1,index=sd)\n",
    "print(df1)#row and column form of data\n",
    "print(type(df))\n",
    "print(df.shape)\n"
   ]
  },
  {
   "cell_type": "code",
   "execution_count": 42,
   "metadata": {},
   "outputs": [
    {
     "name": "stdout",
     "output_type": "stream",
     "text": [
      "   a  b  c\n",
      "0  1  1  2\n",
      "1  2  2  3\n",
      "2  3  4  4\n",
      "(3, 3)\n"
     ]
    }
   ],
   "source": [
    "dict={\"a\":[1,2,3],\"b\":[1,2,4],\"c\":[2,3,4]}\n",
    "ddf=pd.DataFrame(dict,columns=dict.keys())\n",
    "print(ddf)\n",
    "print(ddf.shape)"
   ]
  },
  {
   "cell_type": "code",
   "execution_count": 47,
   "metadata": {},
   "outputs": [
    {
     "name": "stdout",
     "output_type": "stream",
     "text": [
      "a    [1, 2, 3]\n",
      "b    [1, 2, 4]\n",
      "c    [2, 3, 4]\n",
      "dtype: object\n"
     ]
    }
   ],
   "source": [
    "dds=pd.Series(dict,index=dict)\n",
    "print(dds)"
   ]
  },
  {
   "cell_type": "code",
   "execution_count": 96,
   "metadata": {},
   "outputs": [
    {
     "name": "stdout",
     "output_type": "stream",
     "text": [
      "   Subscribers gained\n",
      "0                  48\n",
      "1                  57\n",
      "2                  40\n",
      "3                  43\n",
      "4                  44\n",
      "5                  46\n",
      "6                  33\n",
      "7                  40\n",
      "8                  44\n",
      "9                  74\n",
      "     Subscribers gained\n",
      "355                 149\n",
      "356                 156\n",
      "357                 177\n",
      "358                 210\n",
      "359                 209\n",
      "360                 231\n",
      "361                 226\n",
      "362                 155\n",
      "363                 144\n",
      "364                 172\n",
      "(365, 1)\n",
      "<class 'pandas.core.frame.DataFrame'>\n",
      "RangeIndex: 365 entries, 0 to 364\n",
      "Data columns (total 1 columns):\n",
      " #   Column              Non-Null Count  Dtype\n",
      "---  ------              --------------  -----\n",
      " 0   Subscribers gained  365 non-null    int64\n",
      "dtypes: int64(1)\n",
      "memory usage: 3.0 KB\n",
      "None\n",
      "       Subscribers gained\n",
      "count          365.000000\n",
      "mean           135.643836\n",
      "std             62.675023\n",
      "min             33.000000\n",
      "25%             88.000000\n",
      "50%            123.000000\n",
      "75%            177.000000\n",
      "max            396.000000\n"
     ]
    }
   ],
   "source": [
    "a=pd.read_csv(\"csv folder\\subs.csv\",)#squeeze=True)\n",
    "print(a.head(10))#cannot read all using this method\n",
    "print(a.tail(10))\n",
    "#print(a.to_string())#to check all entries of data\n",
    "print(a.shape)\n",
    "print(a.info()) #if squeeze =True then this cannot be found\n",
    "print(a.describe())"
   ]
  },
  {
   "cell_type": "code",
   "execution_count": 115,
   "metadata": {},
   "outputs": [
    {
     "name": "stdout",
     "output_type": "stream",
     "text": [
      "<class 'pandas.core.frame.DataFrame'>\n",
      "RangeIndex: 398 entries, 0 to 397\n",
      "Data columns (total 9 columns):\n",
      " #   Column        Non-Null Count  Dtype  \n",
      "---  ------        --------------  -----  \n",
      " 0   mpg           398 non-null    float64\n",
      " 1   cylinders     398 non-null    int64  \n",
      " 2   displacement  398 non-null    float64\n",
      " 3   horsepower    398 non-null    object \n",
      " 4   weight        398 non-null    int64  \n",
      " 5   acceleration  398 non-null    float64\n",
      " 6   model year    398 non-null    int64  \n",
      " 7   origin        398 non-null    int64  \n",
      " 8   car name      398 non-null    object \n",
      "dtypes: float64(3), int64(4), object(2)\n",
      "memory usage: 28.1+ KB\n",
      "None\n",
      "0      12.0\n",
      "1      11.5\n",
      "2      11.0\n",
      "3      12.0\n",
      "4      10.5\n",
      "       ... \n",
      "393    15.6\n",
      "394    24.6\n",
      "395    11.6\n",
      "396    18.6\n",
      "397    19.4\n",
      "Name: acceleration, Length: 398, dtype: float64\n",
      "14.0\n",
      "   horsepower  weight\n",
      "7         215    4312\n",
      "8         225    4425\n",
      "9         190    3850\n",
      "10        170    3563\n"
     ]
    }
   ],
   "source": [
    "a1=pd.read_csv(\"csv folder/auto-mpg.csv\",)#squeeze=True)\n",
    "print(a1.info())\n",
    "print(a1[\"acceleration\"])\n",
    "print(a1.loc[7,'mpg'])\n",
    "print(a1.iloc[7:11,3:5])\n"
   ]
  }
 ],
 "metadata": {
  "kernelspec": {
   "display_name": "Python 3",
   "language": "python",
   "name": "python3"
  },
  "language_info": {
   "codemirror_mode": {
    "name": "ipython",
    "version": 3
   },
   "file_extension": ".py",
   "mimetype": "text/x-python",
   "name": "python",
   "nbconvert_exporter": "python",
   "pygments_lexer": "ipython3",
   "version": "3.8.5"
  }
 },
 "nbformat": 4,
 "nbformat_minor": 4
}
