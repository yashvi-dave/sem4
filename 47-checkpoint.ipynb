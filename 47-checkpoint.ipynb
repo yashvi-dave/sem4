{
 "cells": [
  {
   "cell_type": "code",
   "execution_count": 38,
   "metadata": {},
   "outputs": [
    {
     "name": "stdout",
     "output_type": "stream",
     "text": [
      "['ai', 'ai']\n",
      "['a', 'i', 'i', 'a', 'i']\n",
      "[' ', ' ', ' ']\n",
      "['the', 'brown', 'jumped', 'the', 'dog']\n"
     ]
    }
   ],
   "source": [
    "import re\n",
    "text='the rain in spain'\n",
    "text2='the quick brown fox jumped over the lazy dog'\n",
    "x=re.findall('ai',text)\n",
    "y=re.findall('[ai]',text)\n",
    "z=re.findall('[\\s]',text)\n",
    "e=re.split(\"\\s[a-z]+\\s\",text2)\n",
    "print(x)\n",
    "print(y)\n",
    "print(z)\n",
    "print(e)"
   ]
  },
  {
   "cell_type": "code",
   "execution_count": 2,
   "metadata": {},
   "outputs": [
    {
     "name": "stdout",
     "output_type": "stream",
     "text": [
      "['the', 'rain', 'in spain']\n"
     ]
    }
   ],
   "source": [
    "a=re.split('\\s',text,2)\n",
    "print(a)"
   ]
  },
  {
   "cell_type": "code",
   "execution_count": 3,
   "metadata": {},
   "outputs": [
    {
     "name": "stdout",
     "output_type": "stream",
     "text": [
      "the@rain@in spain\n"
     ]
    }
   ],
   "source": [
    "b=re.sub('\\s','@',text,2)\n",
    "print(b)"
   ]
  },
  {
   "cell_type": "code",
   "execution_count": 4,
   "metadata": {},
   "outputs": [
    {
     "name": "stdout",
     "output_type": "stream",
     "text": [
      "True\n",
      "False\n"
     ]
    }
   ],
   "source": [
    "# find the sequence starting with a and ending with 0 or more b\n",
    "def t_match(text):\n",
    "    pattern=r'^a.*(b*)$'\n",
    "    if re.search(pattern,text):\n",
    "        return True\n",
    "    else:\n",
    "        return False\n",
    "print(t_match(\"aBb\"))\n",
    "print(t_match(\"Bb\"))"
   ]
  },
  {
   "cell_type": "code",
   "execution_count": 25,
   "metadata": {},
   "outputs": [
    {
     "name": "stdout",
     "output_type": "stream",
     "text": [
      "False\n",
      "True\n"
     ]
    }
   ],
   "source": [
    "# to find sequence of lower case joined with_\n",
    "def t_match2(text):\n",
    "    pattern=r'^[a-z]+_[a-z]+$'\n",
    "    if re.search(pattern,text):\n",
    "        return True\n",
    "    else:\n",
    "        return False\n",
    "print(t_match2(\"ab_\"))\n",
    "print(t_match2(\"csa_aab\"))"
   ]
  },
  {
   "cell_type": "code",
   "execution_count": 34,
   "metadata": {},
   "outputs": [
    {
     "name": "stdout",
     "output_type": "stream",
     "text": [
      "89.3.12.9\n",
      "csa_aab\n"
     ]
    }
   ],
   "source": [
    "# remove leading 0s from an ip address\n",
    "def t_match3(text):\n",
    "        newtext=re.sub(\".0\",\".\",text)\n",
    "        return newtext\n",
    "print(t_match3(\"89.03.12.09\"))\n",
    "print(t_match3(\"csa_aab\"))"
   ]
  }
 ],
 "metadata": {
  "kernelspec": {
   "display_name": "Python 3",
   "language": "python",
   "name": "python3"
  },
  "language_info": {
   "codemirror_mode": {
    "name": "ipython",
    "version": 3
   },
   "file_extension": ".py",
   "mimetype": "text/x-python",
   "name": "python",
   "nbconvert_exporter": "python",
   "pygments_lexer": "ipython3",
   "version": "3.8.5"
  }
 },
 "nbformat": 4,
 "nbformat_minor": 4
}
